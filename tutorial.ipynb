{
 "cells": [
  {
   "cell_type": "markdown",
   "metadata": {},
   "source": [
    "# Tutorial\n",
    "\n",
    "**Op het moment is het _vera-testframework_ alleen compatibel met _pyspark_.**"
   ]
  },
  {
   "cell_type": "code",
   "execution_count": 1,
   "metadata": {},
   "outputs": [],
   "source": [
    "from vera_testframework.pyspark import ReferentiedataTest\n",
    "from pyspark.sql import SparkSession\n",
    "from testframework.dataquality import DataFrameTester"
   ]
  },
  {
   "cell_type": "code",
   "execution_count": 2,
   "metadata": {},
   "outputs": [
    {
     "name": "stderr",
     "output_type": "stream",
     "text": [
      "Setting default log level to \"WARN\".\n",
      "To adjust logging level use sc.setLogLevel(newLevel). For SparkR, use setLogLevel(newLevel).\n",
      "24/07/12 15:10:47 WARN NativeCodeLoader: Unable to load native-hadoop library for your platform... using builtin-java classes where applicable\n"
     ]
    }
   ],
   "source": [
    "spark = SparkSession.builder.appName(\"vera_testframework\").getOrCreate()"
   ]
  },
  {
   "cell_type": "markdown",
   "metadata": {},
   "source": [
    "**Hieronder wordt een voorbeeld DataFrame gemaakt m.b.t. ruimten, waarvan we gaan testen of de waardes voldoen aan de VERA-standaard.**"
   ]
  },
  {
   "cell_type": "code",
   "execution_count": 3,
   "metadata": {},
   "outputs": [],
   "source": [
    "ruimten = [\n",
    "    (1, \"LOG\", \"Loggia\"),\n",
    "    (2, \"WOO\", \"Woonkamer\"),\n",
    "    (3, \"BAD\", \"Badruimte\"),\n",
    "    (4, \"BAD\", \"Badkamer\"),\n",
    "    (5, None, \"Kelder\"),\n",
    "    (6, \"SLA\", None),\n",
    "]\n",
    "\n",
    "ruimten_df = spark.createDataFrame(ruimten, [\"id\", \"code\", \"naam\"])"
   ]
  },
  {
   "cell_type": "markdown",
   "metadata": {},
   "source": [
    "**We maken gebruik van de `DataFrameTester` van het _pyspark-testframework_ om onze testresultaten in bij te houden.**"
   ]
  },
  {
   "cell_type": "code",
   "execution_count": 4,
   "metadata": {},
   "outputs": [
    {
     "name": "stderr",
     "output_type": "stream",
     "text": [
      "                                                                                \r"
     ]
    }
   ],
   "source": [
    "testframework = DataFrameTester(\n",
    "    df=ruimten_df,\n",
    "    primary_key=\"id\",\n",
    "    spark=spark,\n",
    ")"
   ]
  },
  {
   "cell_type": "markdown",
   "metadata": {},
   "source": [
    "**Door middel van de `ReferentiedataTest` kunnen we testen of een kolom voldoet aan de VERA-standaard m.b.t. Referentiedata.**"
   ]
  },
  {
   "cell_type": "code",
   "execution_count": 5,
   "metadata": {},
   "outputs": [
    {
     "name": "stdout",
     "output_type": "stream",
     "text": [
      "+---+----+-------------------+\n",
      "| id|code|code__VERAStandaard|\n",
      "+---+----+-------------------+\n",
      "|  1| LOG|               true|\n",
      "|  2| WOO|               true|\n",
      "|  3| BAD|               true|\n",
      "|  4| BAD|               true|\n",
      "|  5|NULL|              false|\n",
      "|  6| SLA|               true|\n",
      "+---+----+-------------------+\n",
      "\n"
     ]
    }
   ],
   "source": [
    "testframework.test(\n",
    "    col=\"code\",\n",
    "    test=ReferentiedataTest(\n",
    "        soort=\"RUIMTEDETAILSOORT\",\n",
    "        attribuut=\"Code\",\n",
    "        release=\"latest\",  # standaard is latest, maar kan ook een specifieke versie zijn zoals v4.1.240419\n",
    "    ),\n",
    "    nullable=False,  # of een waarde leeg mag zijn. Dit is aan de gebruiker\n",
    ").show()"
   ]
  },
  {
   "cell_type": "code",
   "execution_count": 6,
   "metadata": {},
   "outputs": [
    {
     "name": "stdout",
     "output_type": "stream",
     "text": [
      "+---+---------+-------------------+\n",
      "| id|     naam|naam__VERAStandaard|\n",
      "+---+---------+-------------------+\n",
      "|  1|   Loggia|               true|\n",
      "|  2|Woonkamer|               true|\n",
      "|  3|Badruimte|              false|\n",
      "|  4| Badkamer|               true|\n",
      "|  5|   Kelder|               true|\n",
      "|  6|     NULL|               true|\n",
      "+---+---------+-------------------+\n",
      "\n"
     ]
    }
   ],
   "source": [
    "testframework.test(\n",
    "    col=\"naam\",\n",
    "    test=ReferentiedataTest(\n",
    "        soort=\"RUIMTEDETAILSOORT\",\n",
    "        attribuut=\"Naam\",\n",
    "    ),\n",
    "    nullable=True,\n",
    ").show()"
   ]
  },
  {
   "cell_type": "markdown",
   "metadata": {},
   "source": [
    "**De resultaten van de testen zijn te vinden in de `.results` attribuut van de `DataFrameTester`.**"
   ]
  },
  {
   "cell_type": "code",
   "execution_count": 7,
   "metadata": {},
   "outputs": [
    {
     "name": "stdout",
     "output_type": "stream",
     "text": [
      "+---+-------------------+-------------------+\n",
      "| id|code__VERAStandaard|naam__VERAStandaard|\n",
      "+---+-------------------+-------------------+\n",
      "|  1|               true|               true|\n",
      "|  2|               true|               true|\n",
      "|  3|               true|              false|\n",
      "|  4|               true|               true|\n",
      "|  5|              false|               true|\n",
      "|  6|               true|               true|\n",
      "+---+-------------------+-------------------+\n",
      "\n"
     ]
    }
   ],
   "source": [
    "testframework.results.show()"
   ]
  },
  {
   "cell_type": "markdown",
   "metadata": {},
   "source": [
    "**Voor meer informatie over hoe het _pyspark-testframework_ te gebruiken, raadpleeg de documentatie op [hun Github](https://github.com/woonstadrotterdam/pyspark-testframework)**"
   ]
  },
  {
   "cell_type": "code",
   "execution_count": 8,
   "metadata": {},
   "outputs": [],
   "source": [
    "spark.stop()"
   ]
  }
 ],
 "metadata": {
  "kernelspec": {
   "display_name": ".venv",
   "language": "python",
   "name": "python3"
  },
  "language_info": {
   "codemirror_mode": {
    "name": "ipython",
    "version": 3
   },
   "file_extension": ".py",
   "mimetype": "text/x-python",
   "name": "python",
   "nbconvert_exporter": "python",
   "pygments_lexer": "ipython3",
   "version": "3.9.18"
  }
 },
 "nbformat": 4,
 "nbformat_minor": 2
}

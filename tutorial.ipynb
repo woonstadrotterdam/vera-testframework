{
 "cells": [
  {
   "cell_type": "markdown",
   "metadata": {},
   "source": [
    "# Tutorial\n",
    "\n",
    "**Op het moment is het _vera-testframework_ alleen compatibel met _pyspark_.**"
   ]
  },
  {
   "cell_type": "code",
   "execution_count": 1,
   "metadata": {},
   "outputs": [],
   "source": [
    "from vera_testframework.pyspark import ReferentiedataTest\n",
    "from pyspark.sql import SparkSession\n",
    "from testframework.dataquality import DataFrameTester"
   ]
  },
  {
   "cell_type": "code",
   "execution_count": 9,
   "metadata": {},
   "outputs": [],
   "source": [
    "spark = SparkSession.builder.appName(\"vera_testframework\").getOrCreate()"
   ]
  },
  {
   "cell_type": "markdown",
   "metadata": {},
   "source": [
    "**Hieronder wordt een voorbeeld DataFrame gemaakt m.b.t. ruimten, waarvan we gaan testen of de waardes voldoen aan de VERA-standaard.**"
   ]
  },
  {
   "cell_type": "code",
   "execution_count": 3,
   "metadata": {},
   "outputs": [],
   "source": [
    "ruimten = [\n",
    "    (1, \"LOG\", \"Loggia\"),\n",
    "    (2, \"WOO\", \"Woonkamer\"),\n",
    "    (3, \"BAD\", \"Badruimte\"),\n",
    "    (4, \"BAD\", \"Badkamer\"),\n",
    "    (5, None, \"Kelder\"),\n",
    "    (6, \"SLA\", None),\n",
    "]\n",
    "\n",
    "ruimten_df = spark.createDataFrame(ruimten, [\"id\", \"code\", \"naam\"])"
   ]
  },
  {
   "cell_type": "markdown",
   "metadata": {},
   "source": [
    "**We maken gebruik van de `DataFrameTester` van het _pyspark-testframework_ om onze testresultaten in bij te houden.**"
   ]
  },
  {
   "cell_type": "code",
   "execution_count": 4,
   "metadata": {},
   "outputs": [
    {
     "name": "stderr",
     "output_type": "stream",
     "text": [
      "                                                                                \r"
     ]
    }
   ],
   "source": [
    "testframework = DataFrameTester(\n",
    "    df=ruimten_df,\n",
    "    primary_key=\"id\",\n",
    "    spark=spark,\n",
    ")"
   ]
  },
  {
   "cell_type": "markdown",
   "metadata": {},
   "source": [
    "**Door middel van de `ReferentiedataTest` kunnen we testen of een kolom voldoet aan de VERA-standaard m.b.t. Referentiedata.**"
   ]
  },
  {
   "cell_type": "code",
   "execution_count": 5,
   "metadata": {},
   "outputs": [
    {
     "name": "stdout",
     "output_type": "stream",
     "text": [
      "+-----------+---------------------------------+-----------+----------+---------------------------+--------+\n",
      "|primary_key|test_name                        |test_result|test_value|test_description           |test_col|\n",
      "+-----------+---------------------------------+-----------+----------+---------------------------+--------+\n",
      "|1          |code__VERA_RUIMTEDETAILSOORT_Code|true       |LOG       |VERA_RUIMTEDETAILSOORT_Code|code    |\n",
      "|2          |code__VERA_RUIMTEDETAILSOORT_Code|true       |WOO       |VERA_RUIMTEDETAILSOORT_Code|code    |\n",
      "|3          |code__VERA_RUIMTEDETAILSOORT_Code|true       |BAD       |VERA_RUIMTEDETAILSOORT_Code|code    |\n",
      "|4          |code__VERA_RUIMTEDETAILSOORT_Code|true       |BAD       |VERA_RUIMTEDETAILSOORT_Code|code    |\n",
      "|5          |code__VERA_RUIMTEDETAILSOORT_Code|false      |NULL      |VERA_RUIMTEDETAILSOORT_Code|code    |\n",
      "|6          |code__VERA_RUIMTEDETAILSOORT_Code|true       |SLA       |VERA_RUIMTEDETAILSOORT_Code|code    |\n",
      "+-----------+---------------------------------+-----------+----------+---------------------------+--------+\n",
      "\n"
     ]
    }
   ],
   "source": [
    "testframework.test(\n",
    "    col=\"code\",\n",
    "    test=ReferentiedataTest(\n",
    "        soort=\"RUIMTEDETAILSOORT\",\n",
    "        attribuut=\"Code\",\n",
    "        release=\"latest\",  # standaard is latest, maar kan ook een specifieke versie zijn zoals v4.1.240419\n",
    "    ),\n",
    "    nullable=False,  # of een waarde leeg mag zijn. Dit is aan de gebruiker\n",
    ").show(truncate=False)"
   ]
  },
  {
   "cell_type": "code",
   "execution_count": 6,
   "metadata": {},
   "outputs": [
    {
     "name": "stdout",
     "output_type": "stream",
     "text": [
      "+-----------+---------------------------------+-----------+----------+---------------------------+--------+\n",
      "|primary_key|test_name                        |test_result|test_value|test_description           |test_col|\n",
      "+-----------+---------------------------------+-----------+----------+---------------------------+--------+\n",
      "|1          |naam__VERA_RUIMTEDETAILSOORT_Naam|true       |Loggia    |VERA_RUIMTEDETAILSOORT_Naam|naam    |\n",
      "|2          |naam__VERA_RUIMTEDETAILSOORT_Naam|true       |Woonkamer |VERA_RUIMTEDETAILSOORT_Naam|naam    |\n",
      "|3          |naam__VERA_RUIMTEDETAILSOORT_Naam|false      |Badruimte |VERA_RUIMTEDETAILSOORT_Naam|naam    |\n",
      "|4          |naam__VERA_RUIMTEDETAILSOORT_Naam|true       |Badkamer  |VERA_RUIMTEDETAILSOORT_Naam|naam    |\n",
      "|5          |naam__VERA_RUIMTEDETAILSOORT_Naam|true       |Kelder    |VERA_RUIMTEDETAILSOORT_Naam|naam    |\n",
      "|6          |naam__VERA_RUIMTEDETAILSOORT_Naam|true       |NULL      |VERA_RUIMTEDETAILSOORT_Naam|naam    |\n",
      "+-----------+---------------------------------+-----------+----------+---------------------------+--------+\n",
      "\n"
     ]
    }
   ],
   "source": [
    "testframework.test(\n",
    "    col=\"naam\",\n",
    "    test=ReferentiedataTest(\n",
    "        soort=\"RUIMTEDETAILSOORT\",\n",
    "        attribuut=\"Naam\",\n",
    "    ),\n",
    "    nullable=True,\n",
    ").show(truncate=False)"
   ]
  },
  {
   "cell_type": "markdown",
   "metadata": {},
   "source": [
    "**De resultaten van de testen zijn te vinden in de `.results` attribuut van de `DataFrameTester`.**"
   ]
  },
  {
   "cell_type": "code",
   "execution_count": 7,
   "metadata": {},
   "outputs": [
    {
     "name": "stdout",
     "output_type": "stream",
     "text": [
      "+-----------+---------------------------------+-----------+----------+---------------------------+--------+---------------+-----------------------+\n",
      "|primary_key|test_name                        |test_result|test_value|test_description           |test_col|primary_key_col|timestamp              |\n",
      "+-----------+---------------------------------+-----------+----------+---------------------------+--------+---------------+-----------------------+\n",
      "|1          |code__VERA_RUIMTEDETAILSOORT_Code|true       |LOG       |VERA_RUIMTEDETAILSOORT_Code|code    |id             |2025-10-20 20:18:55.579|\n",
      "|2          |code__VERA_RUIMTEDETAILSOORT_Code|true       |WOO       |VERA_RUIMTEDETAILSOORT_Code|code    |id             |2025-10-20 20:18:55.579|\n",
      "|3          |code__VERA_RUIMTEDETAILSOORT_Code|true       |BAD       |VERA_RUIMTEDETAILSOORT_Code|code    |id             |2025-10-20 20:18:55.579|\n",
      "|4          |code__VERA_RUIMTEDETAILSOORT_Code|true       |BAD       |VERA_RUIMTEDETAILSOORT_Code|code    |id             |2025-10-20 20:18:55.579|\n",
      "|5          |code__VERA_RUIMTEDETAILSOORT_Code|false      |NULL      |VERA_RUIMTEDETAILSOORT_Code|code    |id             |2025-10-20 20:18:55.579|\n",
      "|6          |code__VERA_RUIMTEDETAILSOORT_Code|true       |SLA       |VERA_RUIMTEDETAILSOORT_Code|code    |id             |2025-10-20 20:18:55.579|\n",
      "|1          |naam__VERA_RUIMTEDETAILSOORT_Naam|true       |Loggia    |VERA_RUIMTEDETAILSOORT_Naam|naam    |id             |2025-10-20 20:18:55.579|\n",
      "|2          |naam__VERA_RUIMTEDETAILSOORT_Naam|true       |Woonkamer |VERA_RUIMTEDETAILSOORT_Naam|naam    |id             |2025-10-20 20:18:55.579|\n",
      "|3          |naam__VERA_RUIMTEDETAILSOORT_Naam|false      |Badruimte |VERA_RUIMTEDETAILSOORT_Naam|naam    |id             |2025-10-20 20:18:55.579|\n",
      "|4          |naam__VERA_RUIMTEDETAILSOORT_Naam|true       |Badkamer  |VERA_RUIMTEDETAILSOORT_Naam|naam    |id             |2025-10-20 20:18:55.579|\n",
      "|5          |naam__VERA_RUIMTEDETAILSOORT_Naam|true       |Kelder    |VERA_RUIMTEDETAILSOORT_Naam|naam    |id             |2025-10-20 20:18:55.579|\n",
      "|6          |naam__VERA_RUIMTEDETAILSOORT_Naam|true       |NULL      |VERA_RUIMTEDETAILSOORT_Naam|naam    |id             |2025-10-20 20:18:55.579|\n",
      "+-----------+---------------------------------+-----------+----------+---------------------------+--------+---------------+-----------------------+\n",
      "\n"
     ]
    }
   ],
   "source": [
    "testframework.results.show(truncate=False)"
   ]
  },
  {
   "cell_type": "markdown",
   "metadata": {},
   "source": [
    "**Voor meer informatie over hoe het _pyspark-testframework_ te gebruiken, raadpleeg de documentatie op [hun Github](https://github.com/woonstadrotterdam/pyspark-testframework)**"
   ]
  },
  {
   "cell_type": "code",
   "execution_count": 8,
   "metadata": {},
   "outputs": [],
   "source": [
    "spark.stop()"
   ]
  }
 ],
 "metadata": {
  "kernelspec": {
   "display_name": ".venv",
   "language": "python",
   "name": "python3"
  },
  "language_info": {
   "codemirror_mode": {
    "name": "ipython",
    "version": 3
   },
   "file_extension": ".py",
   "mimetype": "text/x-python",
   "name": "python",
   "nbconvert_exporter": "python",
   "pygments_lexer": "ipython3",
   "version": "3.9.18"
  }
 },
 "nbformat": 4,
 "nbformat_minor": 2
}
